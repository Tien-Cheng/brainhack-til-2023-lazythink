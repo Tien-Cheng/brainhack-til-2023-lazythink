{
 "cells": [
  {
   "attachments": {},
   "cell_type": "markdown",
   "metadata": {},
   "source": [
    "# Custom Dataset Generator\n",
    "\n",
    "This script converts the custom data that has been recorded and converts it to Huggingface Dataset format"
   ]
  },
  {
   "attachments": {},
   "cell_type": "markdown",
   "metadata": {},
   "source": [
    "## Import"
   ]
  },
  {
   "cell_type": "code",
   "execution_count": 1,
   "metadata": {},
   "outputs": [
    {
     "name": "stderr",
     "output_type": "stream",
     "text": [
      "/home/tiencheng/Projects/brainhack-til-2023-lazythink/asr/venv/lib/python3.10/site-packages/tqdm/auto.py:21: TqdmWarning: IProgress not found. Please update jupyter and ipywidgets. See https://ipywidgets.readthedocs.io/en/stable/user_install.html\n",
      "  from .autonotebook import tqdm as notebook_tqdm\n"
     ]
    }
   ],
   "source": [
    "import glob\n",
    "from os import listdir\n",
    "from datasets import Dataset, Audio"
   ]
  },
  {
   "attachments": {},
   "cell_type": "markdown",
   "metadata": {},
   "source": [
    "## Create Annotation File"
   ]
  },
  {
   "cell_type": "code",
   "execution_count": 2,
   "metadata": {},
   "outputs": [],
   "source": [
    "TRANSCRIPT_DIR = \"../data/custom/transcripts/\"\n",
    "AUDIO_DIR = \"../data/custom/audio/\"\n",
    "SAVE_DIR = \"../data/custom/custom_dataset/\""
   ]
  },
  {
   "cell_type": "code",
   "execution_count": 3,
   "metadata": {},
   "outputs": [],
   "source": [
    "audio_paths = []\n",
    "labels = []\n",
    "for transcript_file in listdir(TRANSCRIPT_DIR):\n",
    "    with open(TRANSCRIPT_DIR + \"/\" + transcript_file, \"r\") as f:\n",
    "        transcript = f.read()\n",
    "    # Inside audio dir, there are subdirs for each speaker, but the same audio file name\n",
    "    # is used for each speaker. So we can just use the file name as the audio id.\n",
    "    audio_id = transcript_file.split(\".\")[0]\n",
    "    # Use glob to get for each speaker the audio file\n",
    "    speakers = glob.glob(AUDIO_DIR + \"*/\" + audio_id + \".wav\")\n",
    "    for speaker in speakers:\n",
    "        audio_paths.append(speaker)\n",
    "        labels.append(transcript)\n",
    "\n",
    "dataset = Dataset.from_dict({\"path\" : audio_paths ,\"audio\": audio_paths, \"annotation\": labels}).cast_column(\"audio\", Audio(\n",
    "    sampling_rate=16000\n",
    "))"
   ]
  },
  {
   "cell_type": "code",
   "execution_count": 4,
   "metadata": {},
   "outputs": [
    {
     "name": "stderr",
     "output_type": "stream",
     "text": [
      "                                                                                          \r"
     ]
    }
   ],
   "source": [
    "dataset.save_to_disk(SAVE_DIR, max_shard_size=\"100mb\")"
   ]
  }
 ],
 "metadata": {
  "kernelspec": {
   "display_name": "venv",
   "language": "python",
   "name": "python3"
  },
  "language_info": {
   "codemirror_mode": {
    "name": "ipython",
    "version": 3
   },
   "file_extension": ".py",
   "mimetype": "text/x-python",
   "name": "python",
   "nbconvert_exporter": "python",
   "pygments_lexer": "ipython3",
   "version": "3.10.8"
  },
  "orig_nbformat": 4
 },
 "nbformat": 4,
 "nbformat_minor": 2
}

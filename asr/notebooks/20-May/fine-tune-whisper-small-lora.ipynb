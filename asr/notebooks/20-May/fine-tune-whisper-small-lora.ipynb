{
 "cells": [
  {
   "attachments": {},
   "cell_type": "markdown",
   "metadata": {},
   "source": [
    "# Experiment: Fine Tuning Whisper Small\n",
    "The goal of this experiment is to fine tune the Whisper Small model on the TIL dataset and act as a baseline for future experiments.\n",
    "- Parameter Efficient Fine Tuning\n",
    "- Fine tuning on TIL base training data\n",
    "- No data augmentation to start with\n",
    "- Greedy decoding"
   ]
  },
  {
   "cell_type": "code",
   "execution_count": null,
   "metadata": {},
   "outputs": [],
   "source": []
  }
 ],
 "metadata": {
  "kernelspec": {
   "display_name": "venv",
   "language": "python",
   "name": "python3"
  },
  "language_info": {
   "name": "python",
   "version": "3.10.8"
  },
  "orig_nbformat": 4
 },
 "nbformat": 4,
 "nbformat_minor": 2
}

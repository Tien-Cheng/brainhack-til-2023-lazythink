{
  "cells": [
    {
      "attachments": {},
      "cell_type": "markdown",
      "metadata": {
        "id": "Rl_BtLmQbRBG"
      },
      "source": [
        "Import dependencies"
      ]
    },
    {
      "cell_type": "code",
      "execution_count": 1,
      "metadata": {
        "id": "AGR9-u5ZUbnx"
      },
      "outputs": [],
      "source": [
        "import os"
      ]
    },
    {
      "attachments": {},
      "cell_type": "markdown",
      "metadata": {
        "id": "Qo6DpnQmVAdx"
      },
      "source": [
        "Install SDE environments"
      ]
    },
    {
      "cell_type": "code",
      "execution_count": 2,
      "metadata": {
        "id": "bj-C_Ua0UdKb"
      },
      "outputs": [
        {
          "name": "stdout",
          "output_type": "stream",
          "text": [
            "Requirement already satisfied: dash>=2.1.0 in c:\\users\\rache\\anaconda3\\envs\\brainhack-asr\\lib\\site-packages (from -r https://raw.githubusercontent.com/NVIDIA/NeMo/stable/tools/speech_data_explorer/requirements.txt (line 1)) (2.9.3)\n",
            "Requirement already satisfied: dash_bootstrap_components>=1.0.3 in c:\\users\\rache\\anaconda3\\envs\\brainhack-asr\\lib\\site-packages (from -r https://raw.githubusercontent.com/NVIDIA/NeMo/stable/tools/speech_data_explorer/requirements.txt (line 2)) (1.4.1)\n",
            "Requirement already satisfied: diff_match_patch in c:\\users\\rache\\anaconda3\\envs\\brainhack-asr\\lib\\site-packages (from -r https://raw.githubusercontent.com/NVIDIA/NeMo/stable/tools/speech_data_explorer/requirements.txt (line 3)) (20230430)\n",
            "Requirement already satisfied: editdistance in c:\\users\\rache\\anaconda3\\envs\\brainhack-asr\\lib\\site-packages (from -r https://raw.githubusercontent.com/NVIDIA/NeMo/stable/tools/speech_data_explorer/requirements.txt (line 4)) (0.6.2)\n",
            "Requirement already satisfied: jiwer in c:\\users\\rache\\anaconda3\\envs\\brainhack-asr\\lib\\site-packages (from -r https://raw.githubusercontent.com/NVIDIA/NeMo/stable/tools/speech_data_explorer/requirements.txt (line 5)) (3.0.1)\n",
            "Requirement already satisfied: librosa>=0.9.1 in c:\\users\\rache\\anaconda3\\envs\\brainhack-asr\\lib\\site-packages (from -r https://raw.githubusercontent.com/NVIDIA/NeMo/stable/tools/speech_data_explorer/requirements.txt (line 6)) (0.10.0.post2)\n",
            "Requirement already satisfied: numpy in c:\\users\\rache\\anaconda3\\envs\\brainhack-asr\\lib\\site-packages (from -r https://raw.githubusercontent.com/NVIDIA/NeMo/stable/tools/speech_data_explorer/requirements.txt (line 7)) (1.24.3)\n",
            "Requirement already satisfied: plotly in c:\\users\\rache\\anaconda3\\envs\\brainhack-asr\\lib\\site-packages (from -r https://raw.githubusercontent.com/NVIDIA/NeMo/stable/tools/speech_data_explorer/requirements.txt (line 8)) (5.14.1)\n",
            "Requirement already satisfied: SoundFile in c:\\users\\rache\\anaconda3\\envs\\brainhack-asr\\lib\\site-packages (from -r https://raw.githubusercontent.com/NVIDIA/NeMo/stable/tools/speech_data_explorer/requirements.txt (line 9)) (0.12.1)\n",
            "Requirement already satisfied: tqdm in c:\\users\\rache\\anaconda3\\envs\\brainhack-asr\\lib\\site-packages (from -r https://raw.githubusercontent.com/NVIDIA/NeMo/stable/tools/speech_data_explorer/requirements.txt (line 10)) (4.65.0)\n",
            "Requirement already satisfied: Flask>=1.0.4 in c:\\users\\rache\\anaconda3\\envs\\brainhack-asr\\lib\\site-packages (from dash>=2.1.0->-r https://raw.githubusercontent.com/NVIDIA/NeMo/stable/tools/speech_data_explorer/requirements.txt (line 1)) (2.3.2)\n",
            "Requirement already satisfied: dash-html-components==2.0.0 in c:\\users\\rache\\anaconda3\\envs\\brainhack-asr\\lib\\site-packages (from dash>=2.1.0->-r https://raw.githubusercontent.com/NVIDIA/NeMo/stable/tools/speech_data_explorer/requirements.txt (line 1)) (2.0.0)\n",
            "Requirement already satisfied: dash-core-components==2.0.0 in c:\\users\\rache\\anaconda3\\envs\\brainhack-asr\\lib\\site-packages (from dash>=2.1.0->-r https://raw.githubusercontent.com/NVIDIA/NeMo/stable/tools/speech_data_explorer/requirements.txt (line 1)) (2.0.0)\n",
            "Requirement already satisfied: dash-table==5.0.0 in c:\\users\\rache\\anaconda3\\envs\\brainhack-asr\\lib\\site-packages (from dash>=2.1.0->-r https://raw.githubusercontent.com/NVIDIA/NeMo/stable/tools/speech_data_explorer/requirements.txt (line 1)) (5.0.0)\n",
            "Requirement already satisfied: click<9.0.0,>=8.1.3 in c:\\users\\rache\\anaconda3\\envs\\brainhack-asr\\lib\\site-packages (from jiwer->-r https://raw.githubusercontent.com/NVIDIA/NeMo/stable/tools/speech_data_explorer/requirements.txt (line 5)) (8.1.3)\n",
            "Requirement already satisfied: rapidfuzz==2.13.7 in c:\\users\\rache\\anaconda3\\envs\\brainhack-asr\\lib\\site-packages (from jiwer->-r https://raw.githubusercontent.com/NVIDIA/NeMo/stable/tools/speech_data_explorer/requirements.txt (line 5)) (2.13.7)\n",
            "Requirement already satisfied: audioread>=2.1.9 in c:\\users\\rache\\anaconda3\\envs\\brainhack-asr\\lib\\site-packages (from librosa>=0.9.1->-r https://raw.githubusercontent.com/NVIDIA/NeMo/stable/tools/speech_data_explorer/requirements.txt (line 6)) (3.0.0)\n",
            "Requirement already satisfied: scipy>=1.2.0 in c:\\users\\rache\\anaconda3\\envs\\brainhack-asr\\lib\\site-packages (from librosa>=0.9.1->-r https://raw.githubusercontent.com/NVIDIA/NeMo/stable/tools/speech_data_explorer/requirements.txt (line 6)) (1.10.1)\n",
            "Requirement already satisfied: scikit-learn>=0.20.0 in c:\\users\\rache\\anaconda3\\envs\\brainhack-asr\\lib\\site-packages (from librosa>=0.9.1->-r https://raw.githubusercontent.com/NVIDIA/NeMo/stable/tools/speech_data_explorer/requirements.txt (line 6)) (1.2.2)\n",
            "Requirement already satisfied: joblib>=0.14 in c:\\users\\rache\\anaconda3\\envs\\brainhack-asr\\lib\\site-packages (from librosa>=0.9.1->-r https://raw.githubusercontent.com/NVIDIA/NeMo/stable/tools/speech_data_explorer/requirements.txt (line 6)) (1.2.0)\n",
            "Requirement already satisfied: decorator>=4.3.0 in c:\\users\\rache\\anaconda3\\envs\\brainhack-asr\\lib\\site-packages (from librosa>=0.9.1->-r https://raw.githubusercontent.com/NVIDIA/NeMo/stable/tools/speech_data_explorer/requirements.txt (line 6)) (5.1.1)\n",
            "Requirement already satisfied: numba>=0.51.0 in c:\\users\\rache\\anaconda3\\envs\\brainhack-asr\\lib\\site-packages (from librosa>=0.9.1->-r https://raw.githubusercontent.com/NVIDIA/NeMo/stable/tools/speech_data_explorer/requirements.txt (line 6)) (0.57.0)\n",
            "Requirement already satisfied: pooch<1.7,>=1.0 in c:\\users\\rache\\anaconda3\\envs\\brainhack-asr\\lib\\site-packages (from librosa>=0.9.1->-r https://raw.githubusercontent.com/NVIDIA/NeMo/stable/tools/speech_data_explorer/requirements.txt (line 6)) (1.6.0)\n",
            "Requirement already satisfied: soxr>=0.3.2 in c:\\users\\rache\\anaconda3\\envs\\brainhack-asr\\lib\\site-packages (from librosa>=0.9.1->-r https://raw.githubusercontent.com/NVIDIA/NeMo/stable/tools/speech_data_explorer/requirements.txt (line 6)) (0.3.5)\n",
            "Requirement already satisfied: typing-extensions>=4.1.1 in c:\\users\\rache\\anaconda3\\envs\\brainhack-asr\\lib\\site-packages (from librosa>=0.9.1->-r https://raw.githubusercontent.com/NVIDIA/NeMo/stable/tools/speech_data_explorer/requirements.txt (line 6)) (4.5.0)\n",
            "Requirement already satisfied: lazy-loader>=0.1 in c:\\users\\rache\\anaconda3\\envs\\brainhack-asr\\lib\\site-packages (from librosa>=0.9.1->-r https://raw.githubusercontent.com/NVIDIA/NeMo/stable/tools/speech_data_explorer/requirements.txt (line 6)) (0.2)\n",
            "Requirement already satisfied: msgpack>=1.0 in c:\\users\\rache\\anaconda3\\envs\\brainhack-asr\\lib\\site-packages (from librosa>=0.9.1->-r https://raw.githubusercontent.com/NVIDIA/NeMo/stable/tools/speech_data_explorer/requirements.txt (line 6)) (1.0.5)\n",
            "Requirement already satisfied: tenacity>=6.2.0 in c:\\users\\rache\\anaconda3\\envs\\brainhack-asr\\lib\\site-packages (from plotly->-r https://raw.githubusercontent.com/NVIDIA/NeMo/stable/tools/speech_data_explorer/requirements.txt (line 8)) (8.2.2)\n",
            "Requirement already satisfied: packaging in c:\\users\\rache\\anaconda3\\envs\\brainhack-asr\\lib\\site-packages (from plotly->-r https://raw.githubusercontent.com/NVIDIA/NeMo/stable/tools/speech_data_explorer/requirements.txt (line 8)) (23.1)\n",
            "Requirement already satisfied: cffi>=1.0 in c:\\users\\rache\\anaconda3\\envs\\brainhack-asr\\lib\\site-packages (from SoundFile->-r https://raw.githubusercontent.com/NVIDIA/NeMo/stable/tools/speech_data_explorer/requirements.txt (line 9)) (1.15.1)\n",
            "Requirement already satisfied: colorama in c:\\users\\rache\\anaconda3\\envs\\brainhack-asr\\lib\\site-packages (from tqdm->-r https://raw.githubusercontent.com/NVIDIA/NeMo/stable/tools/speech_data_explorer/requirements.txt (line 10)) (0.4.6)\n",
            "Requirement already satisfied: pycparser in c:\\users\\rache\\anaconda3\\envs\\brainhack-asr\\lib\\site-packages (from cffi>=1.0->SoundFile->-r https://raw.githubusercontent.com/NVIDIA/NeMo/stable/tools/speech_data_explorer/requirements.txt (line 9)) (2.21)\n",
            "Requirement already satisfied: Werkzeug>=2.3.3 in c:\\users\\rache\\anaconda3\\envs\\brainhack-asr\\lib\\site-packages (from Flask>=1.0.4->dash>=2.1.0->-r https://raw.githubusercontent.com/NVIDIA/NeMo/stable/tools/speech_data_explorer/requirements.txt (line 1)) (2.3.4)\n",
            "Requirement already satisfied: Jinja2>=3.1.2 in c:\\users\\rache\\anaconda3\\envs\\brainhack-asr\\lib\\site-packages (from Flask>=1.0.4->dash>=2.1.0->-r https://raw.githubusercontent.com/NVIDIA/NeMo/stable/tools/speech_data_explorer/requirements.txt (line 1)) (3.1.2)\n",
            "Requirement already satisfied: itsdangerous>=2.1.2 in c:\\users\\rache\\anaconda3\\envs\\brainhack-asr\\lib\\site-packages (from Flask>=1.0.4->dash>=2.1.0->-r https://raw.githubusercontent.com/NVIDIA/NeMo/stable/tools/speech_data_explorer/requirements.txt (line 1)) (2.1.2)\n",
            "Requirement already satisfied: blinker>=1.6.2 in c:\\users\\rache\\anaconda3\\envs\\brainhack-asr\\lib\\site-packages (from Flask>=1.0.4->dash>=2.1.0->-r https://raw.githubusercontent.com/NVIDIA/NeMo/stable/tools/speech_data_explorer/requirements.txt (line 1)) (1.6.2)\n",
            "Requirement already satisfied: llvmlite<0.41,>=0.40.0dev0 in c:\\users\\rache\\anaconda3\\envs\\brainhack-asr\\lib\\site-packages (from numba>=0.51.0->librosa>=0.9.1->-r https://raw.githubusercontent.com/NVIDIA/NeMo/stable/tools/speech_data_explorer/requirements.txt (line 6)) (0.40.0)\n",
            "Requirement already satisfied: appdirs>=1.3.0 in c:\\users\\rache\\anaconda3\\envs\\brainhack-asr\\lib\\site-packages (from pooch<1.7,>=1.0->librosa>=0.9.1->-r https://raw.githubusercontent.com/NVIDIA/NeMo/stable/tools/speech_data_explorer/requirements.txt (line 6)) (1.4.4)\n",
            "Requirement already satisfied: requests>=2.19.0 in c:\\users\\rache\\anaconda3\\envs\\brainhack-asr\\lib\\site-packages (from pooch<1.7,>=1.0->librosa>=0.9.1->-r https://raw.githubusercontent.com/NVIDIA/NeMo/stable/tools/speech_data_explorer/requirements.txt (line 6)) (2.31.0)\n",
            "Requirement already satisfied: threadpoolctl>=2.0.0 in c:\\users\\rache\\anaconda3\\envs\\brainhack-asr\\lib\\site-packages (from scikit-learn>=0.20.0->librosa>=0.9.1->-r https://raw.githubusercontent.com/NVIDIA/NeMo/stable/tools/speech_data_explorer/requirements.txt (line 6)) (3.1.0)\n",
            "Requirement already satisfied: MarkupSafe>=2.0 in c:\\users\\rache\\anaconda3\\envs\\brainhack-asr\\lib\\site-packages (from Jinja2>=3.1.2->Flask>=1.0.4->dash>=2.1.0->-r https://raw.githubusercontent.com/NVIDIA/NeMo/stable/tools/speech_data_explorer/requirements.txt (line 1)) (2.1.2)\n",
            "Requirement already satisfied: charset-normalizer<4,>=2 in c:\\users\\rache\\anaconda3\\envs\\brainhack-asr\\lib\\site-packages (from requests>=2.19.0->pooch<1.7,>=1.0->librosa>=0.9.1->-r https://raw.githubusercontent.com/NVIDIA/NeMo/stable/tools/speech_data_explorer/requirements.txt (line 6)) (3.1.0)\n",
            "Requirement already satisfied: idna<4,>=2.5 in c:\\users\\rache\\anaconda3\\envs\\brainhack-asr\\lib\\site-packages (from requests>=2.19.0->pooch<1.7,>=1.0->librosa>=0.9.1->-r https://raw.githubusercontent.com/NVIDIA/NeMo/stable/tools/speech_data_explorer/requirements.txt (line 6)) (3.4)\n",
            "Requirement already satisfied: urllib3<3,>=1.21.1 in c:\\users\\rache\\anaconda3\\envs\\brainhack-asr\\lib\\site-packages (from requests>=2.19.0->pooch<1.7,>=1.0->librosa>=0.9.1->-r https://raw.githubusercontent.com/NVIDIA/NeMo/stable/tools/speech_data_explorer/requirements.txt (line 6)) (2.0.2)\n",
            "Requirement already satisfied: certifi>=2017.4.17 in c:\\users\\rache\\anaconda3\\envs\\brainhack-asr\\lib\\site-packages (from requests>=2.19.0->pooch<1.7,>=1.0->librosa>=0.9.1->-r https://raw.githubusercontent.com/NVIDIA/NeMo/stable/tools/speech_data_explorer/requirements.txt (line 6)) (2023.5.7)\n"
          ]
        }
      ],
      "source": [
        "!pip install -r https://raw.githubusercontent.com/NVIDIA/NeMo/stable/tools/speech_data_explorer/requirements.txt"
      ]
    },
    {
      "cell_type": "code",
      "execution_count": 3,
      "metadata": {
        "id": "CW8lEi8_Y4D2"
      },
      "outputs": [],
      "source": [
        "# Prepare directory for nemo scripts\n",
        "if not os.path.exists(\"../scripts/\"):\n",
        "  os.makedirs(\"../scripts\")"
      ]
    },
    {
      "cell_type": "code",
      "execution_count": 4,
      "metadata": {
        "id": "dNZCAuC2U94K"
      },
      "outputs": [],
      "source": [
        "# if not os.path.exists(\"../scripts/data_explorer.py\"):\n",
        "#   !python -m wget -P scripts/ https://raw.githubusercontent.com/NVIDIA/NeMo/stable/tools/speech_data_explorer/data_explorer.py"
      ]
    },
    {
      "cell_type": "code",
      "execution_count": 2,
      "metadata": {
        "id": "J7nhAXh3aVOX"
      },
      "outputs": [],
      "source": [
        "train_manifest_file = '../data/train/train_manifest.json'"
      ]
    },
    {
      "cell_type": "code",
      "execution_count": 3,
      "metadata": {
        "colab": {
          "base_uri": "https://localhost:8080/"
        },
        "id": "HCA0-YPeXIuV",
        "outputId": "d05114af-9100-42e8-e51b-b0dfc85b9fe1"
      },
      "outputs": [
        {
          "name": "stderr",
          "output_type": "stream",
          "text": [
            "Traceback (most recent call last):\n",
            "  File \"c:\\Users\\rache\\Documents\\GitHub\\brainhack-til-2023-lazythink\\asr\\scripts\\data_explorer.py\", line 38, in <module>\n",
            "    import pandas as pd\n",
            "ModuleNotFoundError: No module named 'pandas'\n"
          ]
        }
      ],
      "source": [
        "!python ../scripts/data_explorer.py $train_manifest_file"
      ]
    },
    {
      "cell_type": "code",
      "execution_count": null,
      "metadata": {
        "id": "9yvs3yWSaYiw"
      },
      "outputs": [],
      "source": []
    }
  ],
  "metadata": {
    "colab": {
      "provenance": []
    },
    "kernelspec": {
      "display_name": "Python 3",
      "name": "python3"
    },
    "language_info": {
      "codemirror_mode": {
        "name": "ipython",
        "version": 3
      },
      "file_extension": ".py",
      "mimetype": "text/x-python",
      "name": "python",
      "nbconvert_exporter": "python",
      "pygments_lexer": "ipython3",
      "version": "3.11.3"
    }
  },
  "nbformat": 4,
  "nbformat_minor": 0
}

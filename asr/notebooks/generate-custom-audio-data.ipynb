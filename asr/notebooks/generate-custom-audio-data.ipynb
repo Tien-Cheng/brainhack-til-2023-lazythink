{
 "cells": [
  {
   "cell_type": "code",
   "execution_count": 1,
   "metadata": {},
   "outputs": [],
   "source": [
    "import os\n",
    "import pyaudio\n",
    "import wave\n",
    "import soundfile as sf"
   ]
  },
  {
   "cell_type": "code",
   "execution_count": 4,
   "metadata": {},
   "outputs": [],
   "source": [
    "CHUNK = 1024\n",
    "FORMAT = pyaudio.paInt16\n",
    "CHANNELS = 1\n",
    "RATE = 16000\n",
    "MAX_RECORD_SECONDS = 12\n",
    "WAVE_OUTPUT_DIR = \"../data/custom/audio/\"\n",
    "TRANSCRIPT_DIR = \"../data/custom/transcripts/\"\n",
    "TRANSCRIPT_FILE = \"../data/custom/source.txt\""
   ]
  },
  {
   "cell_type": "code",
   "execution_count": 3,
   "metadata": {},
   "outputs": [],
   "source": [
    "if not os.path.exists(WAVE_OUTPUT_DIR):\n",
    "    os.makedirs(WAVE_OUTPUT_DIR)\n",
    "\n",
    "if not os.path.exists(TRANSCRIPT_DIR):\n",
    "    os.makedirs(TRANSCRIPT_DIR)"
   ]
  },
  {
   "cell_type": "code",
   "execution_count": 5,
   "metadata": {},
   "outputs": [],
   "source": [
    "def record_audio(filename):\n",
    "    p = pyaudio.PyAudio()\n",
    "\n",
    "    stream = p.open(format=FORMAT,\n",
    "                    channels=CHANNELS,\n",
    "                    rate=RATE,\n",
    "                    input=True,\n",
    "                    frames_per_buffer=CHUNK)\n",
    "\n",
    "    print(\"* recording\")\n",
    "\n",
    "    frames = []\n",
    "\n",
    "    for _ in range(0, int(RATE / CHUNK * MAX_RECORD_SECONDS)):\n",
    "        data = stream.read(CHUNK)\n",
    "        frames.append(data)\n",
    "\n",
    "    print(\"* done recording\")\n",
    "\n",
    "    stream.stop_stream()\n",
    "    stream.close()\n",
    "    p.terminate()\n",
    "\n",
    "    wf = wave.open(filename, 'wb')\n",
    "    wf.setnchannels(CHANNELS)\n",
    "    wf.setsampwidth(p.get_sample_size(FORMAT))\n",
    "    wf.setframerate(RATE)\n",
    "    wf.writeframes(b''.join(frames))\n",
    "    wf.close()"
   ]
  },
  {
   "cell_type": "code",
   "execution_count": 6,
   "metadata": {},
   "outputs": [],
   "source": [
    "def trim_audio(filename):\n",
    "    data, samplerate = sf.read(filename)\n",
    "    if len(data) > samplerate * MAX_RECORD_SECONDS:\n",
    "        data = data[:samplerate * MAX_RECORD_SECONDS]\n",
    "        sf.write(filename, data, samplerate)"
   ]
  },
  {
   "cell_type": "code",
   "execution_count": 7,
   "metadata": {},
   "outputs": [],
   "source": [
    "def write_transcript(filename, transcript):\n",
    "    with open(filename, 'w') as f:\n",
    "        f.write(transcript)"
   ]
  },
  {
   "cell_type": "code",
   "execution_count": null,
   "metadata": {},
   "outputs": [],
   "source": [
    "def read_transcripts(file):\n",
    "    with open(file, 'r') as f:\n",
    "        lines = f.readlines()\n",
    "\n",
    "    for i, line in enumerate(lines):\n",
    "        if line.strip() == '':\n",
    "            continue\n",
    "        audio_filename = os.path.join(WAVE_OUTPUT_DIR, f'speech_{i+1:02}.wav')\n",
    "        transcript_filename = os.path.join(TRANSCRIPT_DIR, f'speech_{i+1:02}.txt')\n",
    "\n",
    "        if os.path.exists(audio_filename) and os.path.exists(transcript_filename):\n",
    "            continue\n",
    "\n",
    "        print(f\"Please read the following line: {line}\")\n",
    "        input(\"Press Enter when you're ready to start recording...\")\n",
    "\n",
    "        record_audio(audio_filename)\n",
    "        trim_audio(audio_filename)\n",
    "        write_transcript(transcript_filename, line)\n",
    "\n",
    "        print(f\"Recording for line {i+1} saved!\\n\")\n"
   ]
  }
 ],
 "metadata": {
  "kernelspec": {
   "display_name": "venv",
   "language": "python",
   "name": "python3"
  },
  "language_info": {
   "codemirror_mode": {
    "name": "ipython",
    "version": 3
   },
   "file_extension": ".py",
   "mimetype": "text/x-python",
   "name": "python",
   "nbconvert_exporter": "python",
   "pygments_lexer": "ipython3",
   "version": "3.10.8"
  },
  "orig_nbformat": 4
 },
 "nbformat": 4,
 "nbformat_minor": 2
}

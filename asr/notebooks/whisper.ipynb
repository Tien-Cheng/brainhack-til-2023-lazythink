{
 "cells": [
  {
   "attachments": {},
   "cell_type": "markdown",
   "metadata": {},
   "source": [
    "# Baseline: Whisper Small Zero Shot"
   ]
  },
  {
   "cell_type": "code",
   "execution_count": null,
   "metadata": {},
   "outputs": [],
   "source": [
    "# Run this if required\n",
    "# %pip install transformers evaluate datasets librosa jiwer"
   ]
  },
  {
   "attachments": {},
   "cell_type": "markdown",
   "metadata": {},
   "source": [
    "### Library Imports"
   ]
  },
  {
   "cell_type": "code",
   "execution_count": null,
   "metadata": {},
   "outputs": [],
   "source": [
    "import torch\n",
    "import evaluate\n",
    "\n",
    "from transformers import WhisperProcessor, WhisperForConditionalGeneration\n",
    "from datasets import load_from_disk"
   ]
  },
  {
   "attachments": {},
   "cell_type": "markdown",
   "metadata": {},
   "source": [
    "### Model"
   ]
  },
  {
   "cell_type": "code",
   "execution_count": null,
   "metadata": {},
   "outputs": [],
   "source": [
    "DEVICE = \"cuda\""
   ]
  },
  {
   "cell_type": "code",
   "execution_count": null,
   "metadata": {},
   "outputs": [],
   "source": [
    "# load model and processor\n",
    "processor = WhisperProcessor.from_pretrained(\"openai/whisper-small\")\n",
    "model = WhisperForConditionalGeneration.from_pretrained(\"openai/whisper-small\").to(DEVICE)\n",
    "forced_decoder_ids = processor.get_decoder_prompt_ids(language=\"english\", task=\"transcribe\")\n"
   ]
  },
  {
   "attachments": {},
   "cell_type": "markdown",
   "metadata": {},
   "source": [
    "### Load Custom Dataset"
   ]
  },
  {
   "cell_type": "code",
   "execution_count": null,
   "metadata": {},
   "outputs": [],
   "source": [
    "DATASET_PATH = \"../data/custom/hf_dataset/\""
   ]
  },
  {
   "cell_type": "code",
   "execution_count": null,
   "metadata": {},
   "outputs": [],
   "source": [
    "ds = load_from_disk(DATASET_PATH)"
   ]
  },
  {
   "cell_type": "code",
   "execution_count": null,
   "metadata": {},
   "outputs": [],
   "source": [
    "ds[0]"
   ]
  },
  {
   "attachments": {},
   "cell_type": "markdown",
   "metadata": {},
   "source": [
    "### Evaluation on 1 sample"
   ]
  },
  {
   "cell_type": "code",
   "execution_count": null,
   "metadata": {},
   "outputs": [],
   "source": [
    "input_speech = ds[0][\"audio\"]\n",
    "input_features = processor(\n",
    "    input_speech[\"array\"],\n",
    "    sampling_rate=input_speech[\"sampling_rate\"],\n",
    "    return_tensors=\"pt\"\n",
    ").input_features\n",
    "\n",
    "# generate\n",
    "generated_ids = model.generate(\n",
    "    input_features.to(DEVICE),\n",
    "    forced_decoder_ids=forced_decoder_ids,\n",
    ")\n",
    "\n",
    "# decode to text\n",
    "transcription = processor.batch_decode(generated_ids, skip_special_tokens=True)[0]\n",
    "print(transcription)"
   ]
  },
  {
   "attachments": {},
   "cell_type": "markdown",
   "metadata": {},
   "source": [
    "### Evaluation on entire dataset"
   ]
  },
  {
   "cell_type": "code",
   "execution_count": null,
   "metadata": {},
   "outputs": [],
   "source": [
    "def normalize_to_til(transcript: str) -> str:\n",
    "    # TIL output is purely uppercase alphabet and space\n",
    "    # so we normalize the output to that\n",
    "    return \"\".join([c.upper() if c.isalpha() else \" \" for c in transcript])"
   ]
  },
  {
   "cell_type": "code",
   "execution_count": null,
   "metadata": {},
   "outputs": [],
   "source": [
    "def map_to_pred(batch):\n",
    "    audio = batch[\"audio\"]\n",
    "    raw = [i[\"array\"] for i in audio]\n",
    "    \n",
    "    input_features = processor(raw, sampling_rate=audio[0][\"sampling_rate\"], return_tensors=\"pt\").input_features\n",
    "    batch[\"reference\"] = [normalize_to_til(processor.tokenizer._normalize(transcript)) for transcript in batch[\"annotation\"]]\n",
    "\n",
    "\n",
    "    with torch.no_grad():\n",
    "        predicted_ids = model.generate(input_features.to(DEVICE))\n",
    "    preds = []\n",
    "    for pred in predicted_ids:\n",
    "      transcription = processor.decode(pred)\n",
    "      preds.append(normalize_to_til(processor.tokenizer._normalize(transcription)))\n",
    "    batch[\"prediction\"] = preds\n",
    "    return batch\n",
    "\n",
    "result = ds.map(map_to_pred, batched=True, batch_size=8)\n",
    "\n",
    "# Calculate WER\n",
    "wer = evaluate.load(\"wer\")\n",
    "result = wer.compute(predictions=result[\"prediction\"], references=result[\"reference\"])\n",
    "\n",
    "print(f\"WER: {result * 100:.3f}\")"
   ]
  },
  {
   "cell_type": "code",
   "execution_count": null,
   "metadata": {},
   "outputs": [],
   "source": [
    "def map_to_pred_eval(batch):\n",
    "    audio = batch[\"audio\"]\n",
    "    raw = [i[\"array\"] for i in audio]\n",
    "    \n",
    "    input_features = processor(raw, sampling_rate=audio[0][\"sampling_rate\"], return_tensors=\"pt\").input_features\n",
    "    with torch.no_grad():\n",
    "        predicted_ids = model.generate(input_features.to(DEVICE))\n",
    "    preds = []\n",
    "    for pred in predicted_ids:\n",
    "      transcription = processor.decode(pred)\n",
    "      preds.append(normalize_to_til(processor.tokenizer._normalize(transcription)))\n",
    "    batch[\"prediction\"] = preds\n",
    "    return batch"
   ]
  },
  {
   "attachments": {},
   "cell_type": "markdown",
   "metadata": {},
   "source": [
    "## Next Steps\n",
    "- Error Analysis\n",
    "- Denoising of Data"
   ]
  }
 ],
 "metadata": {
  "kernelspec": {
   "display_name": "venv",
   "language": "python",
   "name": "python3"
  },
  "language_info": {
   "codemirror_mode": {
    "name": "ipython",
    "version": 3
   },
   "file_extension": ".py",
   "mimetype": "text/x-python",
   "name": "python",
   "nbconvert_exporter": "python",
   "pygments_lexer": "ipython3",
   "version": "3.10.8"
  },
  "orig_nbformat": 4
 },
 "nbformat": 4,
 "nbformat_minor": 2
}

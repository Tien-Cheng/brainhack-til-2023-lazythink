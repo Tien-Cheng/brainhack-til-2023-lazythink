{
 "cells": [
  {
   "cell_type": "code",
   "execution_count": 1,
   "metadata": {},
   "outputs": [],
   "source": [
    "import glob\n",
    "import random"
   ]
  },
  {
   "cell_type": "code",
   "execution_count": 2,
   "metadata": {},
   "outputs": [
    {
     "name": "stdout",
     "output_type": "stream",
     "text": [
      "800\n"
     ]
    }
   ],
   "source": [
    "print(len(glob.glob(\"./val_labels/*.txt\")))"
   ]
  },
  {
   "attachments": {},
   "cell_type": "markdown",
   "metadata": {},
   "source": [
    "## randomly choose 80 files to compile a suspect list"
   ]
  },
  {
   "cell_type": "code",
   "execution_count": 46,
   "metadata": {},
   "outputs": [
    {
     "name": "stdout",
     "output_type": "stream",
     "text": [
      "[240, 126, 596, 22, 173, 577, 512, 548, 769, 597, 289, 408, 252, 46, 687, 498, 136, 772, 449, 55, 552, 501, 154, 574, 350, 416, 114, 471, 660, 330, 591, 337, 429, 265, 733, 277, 489, 659, 54, 571, 732, 716, 303, 694, 349, 238, 223, 681, 628, 445, 267, 521, 398, 215, 782, 352, 121, 0, 103, 494, 73, 651, 631, 713, 632, 396, 381, 296, 683, 453, 371, 507, 301, 654, 766, 370, 723, 634, 595, 375, 781, 24, 448, 784, 538, 662, 195, 380, 108, 52, 363, 436, 262, 526, 70, 750, 295, 674, 105, 702]\n",
      "{'5': 22, '7': 20, '0': 20, '8': 26, '3': 15, '4': 23, '2': 21, '6': 21, '9': 12, '1': 26}\n"
     ]
    }
   ],
   "source": [
    "chosen = []\n",
    "label_dict = {}\n",
    "# banned = ['9','2','6','4','8','5']\n",
    "dir = './val_labels/'\n",
    "\n",
    "while len(chosen) < 100:\n",
    "    random_number = random.randint(0, 799)\n",
    "    if random_number not in chosen:\n",
    "        file = dir + 'image_' + str(random_number).zfill(4) + '.txt'\n",
    "        temp = []\n",
    "        with open(file) as f:\n",
    "            for i in f.readlines():\n",
    "                id = i.split(' ')[0]\n",
    "                if id != '/n':\n",
    "                    temp.append(id)\n",
    "                else:\n",
    "                    continue\n",
    "\n",
    "\n",
    "            # none_in_temp = all(element not in temp for element in banned)\n",
    "            # if none_in_temp:\n",
    "            chosen.append(random_number)\n",
    "            for i in temp:\n",
    "                if id in label_dict:\n",
    "                    label_dict[id] += 1\n",
    "                else:\n",
    "                    label_dict[id] = 1\n",
    "print(chosen)\n",
    "print(label_dict)"
   ]
  },
  {
   "cell_type": "code",
   "execution_count": 47,
   "metadata": {},
   "outputs": [
    {
     "name": "stdout",
     "output_type": "stream",
     "text": [
      "8 : 26\n",
      "1 : 26\n",
      "4 : 23\n",
      "5 : 22\n",
      "2 : 21\n",
      "6 : 21\n",
      "7 : 20\n",
      "0 : 20\n",
      "3 : 15\n",
      "9 : 12\n"
     ]
    }
   ],
   "source": [
    "sorted_items = sorted(label_dict.items(), key=lambda x: x[1], reverse=True)\n",
    "\n",
    "# Print the top 20 keys with their counts\n",
    "# print(\"Top 20 keys with the highest counts:\")\n",
    "for key, value in sorted_items:\n",
    "    print(key, \":\", value)"
   ]
  },
  {
   "cell_type": "code",
   "execution_count": 50,
   "metadata": {},
   "outputs": [
    {
     "name": "stdout",
     "output_type": "stream",
     "text": [
      "Copied: image_0240.txt\n",
      "Copied: image_0126.txt\n",
      "Copied: image_0596.txt\n",
      "Copied: image_0022.txt\n",
      "Copied: image_0173.txt\n",
      "Copied: image_0577.txt\n",
      "Copied: image_0512.txt\n",
      "Copied: image_0548.txt\n",
      "Copied: image_0769.txt\n",
      "Copied: image_0597.txt\n",
      "Copied: image_0289.txt\n",
      "Copied: image_0408.txt\n",
      "Copied: image_0252.txt\n",
      "Copied: image_0046.txt\n",
      "Copied: image_0687.txt\n",
      "Copied: image_0498.txt\n",
      "Copied: image_0136.txt\n",
      "Copied: image_0772.txt\n",
      "Copied: image_0449.txt\n",
      "Copied: image_0055.txt\n",
      "Copied: image_0552.txt\n",
      "Copied: image_0501.txt\n",
      "Copied: image_0154.txt\n",
      "Copied: image_0574.txt\n",
      "Copied: image_0350.txt\n",
      "Copied: image_0416.txt\n",
      "Copied: image_0114.txt\n",
      "Copied: image_0471.txt\n",
      "Copied: image_0660.txt\n",
      "Copied: image_0330.txt\n",
      "Copied: image_0591.txt\n",
      "Copied: image_0337.txt\n",
      "Copied: image_0429.txt\n",
      "Copied: image_0265.txt\n",
      "Copied: image_0733.txt\n",
      "Copied: image_0277.txt\n",
      "Copied: image_0489.txt\n",
      "Copied: image_0659.txt\n",
      "Copied: image_0054.txt\n",
      "Copied: image_0571.txt\n",
      "Copied: image_0732.txt\n",
      "Copied: image_0716.txt\n",
      "Copied: image_0303.txt\n",
      "Copied: image_0694.txt\n",
      "Copied: image_0349.txt\n",
      "Copied: image_0238.txt\n",
      "Copied: image_0223.txt\n",
      "Copied: image_0681.txt\n",
      "Copied: image_0628.txt\n",
      "Copied: image_0445.txt\n",
      "Copied: image_0267.txt\n",
      "Copied: image_0521.txt\n",
      "Copied: image_0398.txt\n",
      "Copied: image_0215.txt\n",
      "Copied: image_0782.txt\n",
      "Copied: image_0352.txt\n",
      "Copied: image_0121.txt\n",
      "Copied: image_0000.txt\n",
      "Copied: image_0103.txt\n",
      "Copied: image_0494.txt\n",
      "Copied: image_0073.txt\n",
      "Copied: image_0651.txt\n",
      "Copied: image_0631.txt\n",
      "Copied: image_0713.txt\n",
      "Copied: image_0632.txt\n",
      "Copied: image_0396.txt\n",
      "Copied: image_0381.txt\n",
      "Copied: image_0296.txt\n",
      "Copied: image_0683.txt\n",
      "Copied: image_0453.txt\n",
      "Copied: image_0371.txt\n",
      "Copied: image_0507.txt\n",
      "Copied: image_0301.txt\n",
      "Copied: image_0654.txt\n",
      "Copied: image_0766.txt\n",
      "Copied: image_0370.txt\n",
      "Copied: image_0723.txt\n",
      "Copied: image_0634.txt\n",
      "Copied: image_0595.txt\n",
      "Copied: image_0375.txt\n",
      "Copied: image_0781.txt\n",
      "Copied: image_0024.txt\n",
      "Copied: image_0448.txt\n",
      "Copied: image_0784.txt\n",
      "Copied: image_0538.txt\n",
      "Copied: image_0662.txt\n",
      "Copied: image_0195.txt\n",
      "Copied: image_0380.txt\n",
      "Copied: image_0108.txt\n",
      "Copied: image_0052.txt\n",
      "Copied: image_0363.txt\n",
      "Copied: image_0436.txt\n",
      "Copied: image_0262.txt\n",
      "Copied: image_0526.txt\n",
      "Copied: image_0070.txt\n",
      "Copied: image_0750.txt\n",
      "Copied: image_0295.txt\n",
      "Copied: image_0674.txt\n",
      "Copied: image_0105.txt\n",
      "Copied: image_0702.txt\n"
     ]
    }
   ],
   "source": [
    "import os\n",
    "import shutil\n",
    "\n",
    "source_directory = 'val_labels'\n",
    "destination_directory = 'filtered'\n",
    "\n",
    "# Loop through each file name\n",
    "for file_name in chosen:\n",
    "    # file_name = 'image_' + str(number).zfill(4) + '.txt'\n",
    "    # Create the source and destination file paths\n",
    "    source_path = './' + source_directory + '/' + file_name\n",
    "    destination_path = './' + destination_directory + '/' + file_name\n",
    "    \n",
    "    # Copy the file from the source to the destination\n",
    "    shutil.copy2(source_path, destination_path)\n",
    "    \n",
    "    # Print the file name after copying\n",
    "    print(f\"Copied: {file_name}\")"
   ]
  },
  {
   "cell_type": "code",
   "execution_count": 48,
   "metadata": {},
   "outputs": [],
   "source": [
    "import json\n",
    "for i in range(len(chosen)):\n",
    "    chosen[i] = 'image_' + str(chosen[i]).zfill(4) + '.txt'\n",
    "\n",
    "with open('./src_lightly/filtered_val_data.json', 'w') as file:\n",
    "    json.dump(chosen, file)"
   ]
  },
  {
   "cell_type": "code",
   "execution_count": null,
   "metadata": {},
   "outputs": [],
   "source": []
  }
 ],
 "metadata": {
  "kernelspec": {
   "display_name": "base",
   "language": "python",
   "name": "python3"
  },
  "language_info": {
   "codemirror_mode": {
    "name": "ipython",
    "version": 3
   },
   "file_extension": ".py",
   "mimetype": "text/x-python",
   "name": "python",
   "nbconvert_exporter": "python",
   "pygments_lexer": "ipython3",
   "version": "3.9.7"
  },
  "orig_nbformat": 4
 },
 "nbformat": 4,
 "nbformat_minor": 2
}

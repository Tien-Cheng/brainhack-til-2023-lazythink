{
 "cells": [
  {
   "cell_type": "code",
   "execution_count": 5,
   "metadata": {},
   "outputs": [],
   "source": [
    "import glob\n",
    "import random"
   ]
  },
  {
   "cell_type": "code",
   "execution_count": 3,
   "metadata": {},
   "outputs": [
    {
     "name": "stdout",
     "output_type": "stream",
     "text": [
      "800\n"
     ]
    }
   ],
   "source": [
    "print(len(glob.glob(\"./val_labels/*.txt\")))"
   ]
  },
  {
   "attachments": {},
   "cell_type": "markdown",
   "metadata": {},
   "source": [
    "## randomly choose 80 files to compile a suspect list"
   ]
  },
  {
   "cell_type": "code",
   "execution_count": 27,
   "metadata": {},
   "outputs": [
    {
     "name": "stdout",
     "output_type": "stream",
     "text": [
      "[607, 623, 131, 24, 47, 282, 129, 55, 125, 569, 58, 259, 290, 23, 302, 103, 264, 249, 308, 590, 44, 272, 621, 102, 615, 150, 291, 561, 262, 284, 582, 586, 589, 604, 113, 576, 572, 119, 260, 144, 38, 265, 612, 41, 271, 602, 27, 153, 112, 636, 157, 118, 571, 266, 578, 17, 251, 279, 18, 159, 301, 306, 609, 285, 567, 6, 281, 152, 634, 49, 87, 599, 632, 84, 73, 134, 14, 34, 562, 155, 48, 581, 151, 316, 105, 287, 250, 294, 631, 313, 3, 610, 588, 78, 598, 85, 277, 62, 603, 109]\n",
      "{'7': 31, '0': 34, '1': 50, '3': 33}\n"
     ]
    }
   ],
   "source": [
    "chosen = []\n",
    "label_dict = {}\n",
    "banned = ['9','2','6','4','8','5']\n",
    "dir = './val_labels/'\n",
    "\n",
    "while len(chosen) < 100:\n",
    "    random_number = random.randint(0, 799)\n",
    "    if random_number not in chosen:\n",
    "        file = dir + 'image_' + str(random_number).zfill(4) + '.txt'\n",
    "        temp = []\n",
    "        with open(file) as f:\n",
    "            for i in f.readlines():\n",
    "                id = i.split(' ')[0]\n",
    "                if id != '/n':\n",
    "                    temp.append(id)\n",
    "\n",
    "            none_in_temp = all(element not in temp for element in banned)\n",
    "            if none_in_temp:\n",
    "                chosen.append(random_number)\n",
    "                for i in temp:\n",
    "                    if id in label_dict:\n",
    "                        label_dict[id] += 1\n",
    "                    else:\n",
    "                        label_dict[id] = 1\n",
    "print(chosen)\n",
    "print(label_dict)"
   ]
  },
  {
   "cell_type": "code",
   "execution_count": 28,
   "metadata": {},
   "outputs": [
    {
     "name": "stdout",
     "output_type": "stream",
     "text": [
      "1 : 50\n",
      "0 : 34\n",
      "3 : 33\n",
      "7 : 31\n"
     ]
    }
   ],
   "source": [
    "sorted_items = sorted(label_dict.items(), key=lambda x: x[1], reverse=True)\n",
    "\n",
    "# Print the top 20 keys with their counts\n",
    "# print(\"Top 20 keys with the highest counts:\")\n",
    "for key, value in sorted_items:\n",
    "    print(key, \":\", value)"
   ]
  },
  {
   "cell_type": "code",
   "execution_count": 29,
   "metadata": {},
   "outputs": [
    {
     "name": "stdout",
     "output_type": "stream",
     "text": [
      "Copied: image_0607.txt\n",
      "Copied: image_0623.txt\n",
      "Copied: image_0131.txt\n",
      "Copied: image_0024.txt\n",
      "Copied: image_0047.txt\n",
      "Copied: image_0282.txt\n",
      "Copied: image_0129.txt\n",
      "Copied: image_0055.txt\n",
      "Copied: image_0125.txt\n",
      "Copied: image_0569.txt\n",
      "Copied: image_0058.txt\n",
      "Copied: image_0259.txt\n",
      "Copied: image_0290.txt\n",
      "Copied: image_0023.txt\n",
      "Copied: image_0302.txt\n",
      "Copied: image_0103.txt\n",
      "Copied: image_0264.txt\n",
      "Copied: image_0249.txt\n",
      "Copied: image_0308.txt\n",
      "Copied: image_0590.txt\n",
      "Copied: image_0044.txt\n",
      "Copied: image_0272.txt\n",
      "Copied: image_0621.txt\n",
      "Copied: image_0102.txt\n",
      "Copied: image_0615.txt\n",
      "Copied: image_0150.txt\n",
      "Copied: image_0291.txt\n",
      "Copied: image_0561.txt\n",
      "Copied: image_0262.txt\n",
      "Copied: image_0284.txt\n",
      "Copied: image_0582.txt\n",
      "Copied: image_0586.txt\n",
      "Copied: image_0589.txt\n",
      "Copied: image_0604.txt\n",
      "Copied: image_0113.txt\n",
      "Copied: image_0576.txt\n",
      "Copied: image_0572.txt\n",
      "Copied: image_0119.txt\n",
      "Copied: image_0260.txt\n",
      "Copied: image_0144.txt\n",
      "Copied: image_0038.txt\n",
      "Copied: image_0265.txt\n",
      "Copied: image_0612.txt\n",
      "Copied: image_0041.txt\n",
      "Copied: image_0271.txt\n",
      "Copied: image_0602.txt\n",
      "Copied: image_0027.txt\n",
      "Copied: image_0153.txt\n",
      "Copied: image_0112.txt\n",
      "Copied: image_0636.txt\n",
      "Copied: image_0157.txt\n",
      "Copied: image_0118.txt\n",
      "Copied: image_0571.txt\n",
      "Copied: image_0266.txt\n",
      "Copied: image_0578.txt\n",
      "Copied: image_0017.txt\n",
      "Copied: image_0251.txt\n",
      "Copied: image_0279.txt\n",
      "Copied: image_0018.txt\n",
      "Copied: image_0159.txt\n",
      "Copied: image_0301.txt\n",
      "Copied: image_0306.txt\n",
      "Copied: image_0609.txt\n",
      "Copied: image_0285.txt\n",
      "Copied: image_0567.txt\n",
      "Copied: image_0006.txt\n",
      "Copied: image_0281.txt\n",
      "Copied: image_0152.txt\n",
      "Copied: image_0634.txt\n",
      "Copied: image_0049.txt\n",
      "Copied: image_0087.txt\n",
      "Copied: image_0599.txt\n",
      "Copied: image_0632.txt\n",
      "Copied: image_0084.txt\n",
      "Copied: image_0073.txt\n",
      "Copied: image_0134.txt\n",
      "Copied: image_0014.txt\n",
      "Copied: image_0034.txt\n",
      "Copied: image_0562.txt\n",
      "Copied: image_0155.txt\n",
      "Copied: image_0048.txt\n",
      "Copied: image_0581.txt\n",
      "Copied: image_0151.txt\n",
      "Copied: image_0316.txt\n",
      "Copied: image_0105.txt\n",
      "Copied: image_0287.txt\n",
      "Copied: image_0250.txt\n",
      "Copied: image_0294.txt\n",
      "Copied: image_0631.txt\n",
      "Copied: image_0313.txt\n",
      "Copied: image_0003.txt\n",
      "Copied: image_0610.txt\n",
      "Copied: image_0588.txt\n",
      "Copied: image_0078.txt\n",
      "Copied: image_0598.txt\n",
      "Copied: image_0085.txt\n",
      "Copied: image_0277.txt\n",
      "Copied: image_0062.txt\n",
      "Copied: image_0603.txt\n",
      "Copied: image_0109.txt\n"
     ]
    }
   ],
   "source": [
    "import os\n",
    "import shutil\n",
    "\n",
    "source_directory = 'val_labels'\n",
    "destination_directory = 'filtered'\n",
    "\n",
    "# Loop through each file name\n",
    "for number in chosen:\n",
    "    file_name = 'image_' + str(number).zfill(4) + '.txt'\n",
    "    # Create the source and destination file paths\n",
    "    source_path = './' + source_directory + '/' + file_name\n",
    "    destination_path = './' + destination_directory + '/' + file_name\n",
    "    \n",
    "    # Copy the file from the source to the destination\n",
    "    shutil.copy2(source_path, destination_path)\n",
    "    \n",
    "    # Print the file name after copying\n",
    "    print(f\"Copied: {file_name}\")"
   ]
  },
  {
   "cell_type": "code",
   "execution_count": 33,
   "metadata": {},
   "outputs": [],
   "source": [
    "import json\n",
    "for i in range(len(chosen)):\n",
    "    chosen[i] = 'image_' + str(chosen[i]).zfill(4) + '.txt'\n",
    "\n",
    "with open('./src_lightly/filtered_val_data.json', 'w') as file:\n",
    "    json.dump(chosen, file)"
   ]
  }
 ],
 "metadata": {
  "kernelspec": {
   "display_name": "base",
   "language": "python",
   "name": "python3"
  },
  "language_info": {
   "codemirror_mode": {
    "name": "ipython",
    "version": 3
   },
   "file_extension": ".py",
   "mimetype": "text/x-python",
   "name": "python",
   "nbconvert_exporter": "python",
   "pygments_lexer": "ipython3",
   "version": "3.9.7"
  },
  "orig_nbformat": 4
 },
 "nbformat": 4,
 "nbformat_minor": 2
}

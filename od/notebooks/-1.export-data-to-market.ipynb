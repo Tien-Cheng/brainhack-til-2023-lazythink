{
 "cells": [
  {
   "cell_type": "code",
   "execution_count": 4,
   "metadata": {},
   "outputs": [
    {
     "name": "stdout",
     "output_type": "stream",
     "text": [
      "/home/kiritowu/code/brainhack-til-2023-lazythink/od/notebooks\n"
     ]
    }
   ],
   "source": [
    "%cd notebooks"
   ]
  },
  {
   "cell_type": "code",
   "execution_count": 1,
   "metadata": {},
   "outputs": [],
   "source": [
    "from pathlib import Path\n",
    "import os\n",
    "\n",
    "import tqdm\n",
    "from PIL import Image"
   ]
  },
  {
   "cell_type": "code",
   "execution_count": 9,
   "metadata": {},
   "outputs": [],
   "source": [
    "TRAIN_IMAGE_DIR = \"../data/images/train\"\n",
    "TRAIN_ANNOTATION_DIR = \"../data/labels/yolo/train_labels\"\n",
    "VAL_IMAGE_DIR = \"../data/images/validation\"\n",
    "VAL_ANNOTATION_DIR = \"../data/labels/yolo/val_labels\"\n",
    "\n",
    "EXPORT_TRAIN_DIR = \"../data/market1501/bounding_box_train\"\n",
    "EXPORT_TEST_DIR  = \"../data/market1501/bounding_box_test\"   # With label\n",
    "EXPORT_QUERY_DIR = \"../data/market1501/query\"  # With label"
   ]
  },
  {
   "cell_type": "code",
   "execution_count": 10,
   "metadata": {},
   "outputs": [],
   "source": [
    "train_image_dir = Path(TRAIN_IMAGE_DIR)\n",
    "train_annotation_dir = Path(TRAIN_ANNOTATION_DIR)\n",
    "val_image_dir = Path(VAL_IMAGE_DIR)\n",
    "val_annotation_dir = Path(VAL_ANNOTATION_DIR)\n",
    "\n",
    "export_train_dir = Path(EXPORT_TRAIN_DIR)\n",
    "export_test_dir = Path(EXPORT_TEST_DIR)\n",
    "export_query_dir = Path(EXPORT_QUERY_DIR)"
   ]
  },
  {
   "cell_type": "code",
   "execution_count": 13,
   "metadata": {},
   "outputs": [
    {
     "name": "stderr",
     "output_type": "stream",
     "text": [
      "5664it [05:01, 18.77it/s]\n"
     ]
    }
   ],
   "source": [
    "# Export cropped train data\n",
    "for label_path in tqdm.tqdm(train_annotation_dir.glob(\"*.txt\")):\n",
    "    with open(label_path) as f:\n",
    "        for idx, label_infos in enumerate(f.readlines()):\n",
    "            [c, n_x, n_y, n_w, n_h] = map(float, label_infos.split(\" \"))\n",
    "\n",
    "            # Load image\n",
    "            img = Image.open(\n",
    "                train_image_dir / label_path.name.replace(\".txt\", \".png\")\n",
    "            ).convert(\"RGB\")\n",
    "\n",
    "            # Convert yolo bbox to PIL bbox\n",
    "            left = (n_x - n_w / 2) * img.width\n",
    "            top = (n_y - n_h / 2) * img.height\n",
    "            right = (n_x + n_w / 2) * img.width\n",
    "            bottom = (n_y + n_h / 2) * img.height\n",
    "\n",
    "            # Crop plushie\n",
    "            cropped_img = img.crop((left, top, right, bottom))\n",
    "\n",
    "            # Save cropped plushie\n",
    "            cropped_img.save(\n",
    "                export_train_dir / f\"{int(c)}_c1s1_{label_path.stem}_{idx}.jpg\"\n",
    "            )"
   ]
  },
  {
   "cell_type": "code",
   "execution_count": 16,
   "metadata": {},
   "outputs": [
    {
     "name": "stderr",
     "output_type": "stream",
     "text": [
      "800it [00:36, 21.68it/s]\n"
     ]
    }
   ],
   "source": [
    "new_suspect_file_names = [\"image_0240.txt\", \"image_0126.txt\", \"image_0596.txt\", \"image_0022.txt\", \"image_0173.txt\", \"image_0577.txt\", \"image_0512.txt\", \"image_0548.txt\", \"image_0769.txt\", \"image_0597.txt\", \"image_0289.txt\", \"image_0408.txt\", \"image_0252.txt\", \"image_0046.txt\", \"image_0687.txt\", \"image_0498.txt\", \"image_0136.txt\", \"image_0772.txt\", \"image_0449.txt\", \"image_0055.txt\", \"image_0552.txt\", \"image_0501.txt\", \"image_0154.txt\", \"image_0574.txt\", \"image_0350.txt\", \"image_0416.txt\", \"image_0114.txt\", \"image_0471.txt\", \"image_0660.txt\", \"image_0330.txt\", \"image_0591.txt\", \"image_0337.txt\", \"image_0429.txt\", \"image_0265.txt\", \"image_0733.txt\", \"image_0277.txt\", \"image_0489.txt\", \"image_0659.txt\", \"image_0054.txt\", \"image_0571.txt\", \"image_0732.txt\", \"image_0716.txt\", \"image_0303.txt\", \"image_0694.txt\", \"image_0349.txt\", \"image_0238.txt\", \"image_0223.txt\", \"image_0681.txt\", \"image_0628.txt\", \"image_0445.txt\", \"image_0267.txt\", \"image_0521.txt\", \"image_0398.txt\", \"image_0215.txt\", \"image_0782.txt\", \"image_0352.txt\", \"image_0121.txt\", \"image_0000.txt\", \"image_0103.txt\", \"image_0494.txt\", \"image_0073.txt\", \"image_0651.txt\", \"image_0631.txt\", \"image_0713.txt\", \"image_0632.txt\", \"image_0396.txt\", \"image_0381.txt\", \"image_0296.txt\", \"image_0683.txt\", \"image_0453.txt\", \"image_0371.txt\", \"image_0507.txt\", \"image_0301.txt\", \"image_0654.txt\", \"image_0766.txt\", \"image_0370.txt\", \"image_0723.txt\", \"image_0634.txt\", \"image_0595.txt\", \"image_0375.txt\", \"image_0781.txt\", \"image_0024.txt\", \"image_0448.txt\", \"image_0784.txt\", \"image_0538.txt\", \"image_0662.txt\", \"image_0195.txt\", \"image_0380.txt\", \"image_0108.txt\", \"image_0052.txt\", \"image_0363.txt\", \"image_0436.txt\", \"image_0262.txt\", \"image_0526.txt\", \"image_0070.txt\", \"image_0750.txt\", \"image_0295.txt\", \"image_0674.txt\", \"image_0105.txt\", \"image_0702.txt\"]\n",
    "suspect_file_ids = [607, 623, 131, 24, 47, 282, 129, 55, 125, 569, 58, 259, 290, 23, 302, 103, 264, 249, 308, 590, 44, 272, 621, 102, 615, 150, 291, 561, 262, 284, 582, 586, 589, 604, 113, 576, 572, 119, 260, 144, 38, 265, 612, 41, 271, 602, 27, 153, 112, 636, 157, 118, 571, 266, 578, 17, 251, 279, 18, 159, 301, 306, 609, 285, 567, 6, 281, 152, 634, 49, 87, 599, 632, 84, 73, 134, 14, 34, 562, 155, 48, 581, 151, 316, 105, 287, 250, 294, 631, 313, 3, 610, 588, 78, 598, 85, 277, 62, 603, 109]\n",
    "\n",
    "# Export cropped test data\n",
    "for label_path in tqdm.tqdm(val_annotation_dir.glob(\"*.txt\")):\n",
    "    with open(label_path) as f:\n",
    "        for idx, label_infos in enumerate(f.readlines()):\n",
    "            [c, n_x, n_y, n_w, n_h] = map(float, label_infos.split(\" \"))\n",
    "\n",
    "            # Load image\n",
    "            img = Image.open(\n",
    "                val_image_dir / label_path.name.replace(\".txt\", \".png\")\n",
    "            ).convert(\"RGB\")\n",
    "\n",
    "            # Convert yolo bbox to PIL bbox\n",
    "            left = (n_x - n_w / 2) * img.width\n",
    "            top = (n_y - n_h / 2) * img.height\n",
    "            right = (n_x + n_w / 2) * img.width\n",
    "            bottom = (n_y + n_h / 2) * img.height\n",
    "\n",
    "            # Crop plushie\n",
    "            cropped_img = img.crop((left, top, right, bottom))\n",
    "\n",
    "            # Save cropped plushie\n",
    "            if os.path.basename(label_path) in new_suspect_file_names:\n",
    "                # Save to suspect dir\n",
    "                cropped_img.save(\n",
    "                    export_query_dir / f\"{int(c)}_c1s1_{label_path.stem}_{idx}.jpg\"\n",
    "                )\n",
    "            else:\n",
    "                # Save to test dir\n",
    "                cropped_img.save(\n",
    "                    export_test_dir / f\"{int(c)}_c2s1_{label_path.stem}_{idx}.jpg\"\n",
    "                )\n"
   ]
  },
  {
   "cell_type": "code",
   "execution_count": 17,
   "metadata": {},
   "outputs": [
    {
     "name": "stderr",
     "output_type": "stream",
     "text": [
      "'zip' is not recognized as an internal or external command,\n",
      "operable program or batch file.\n",
      "'gsutil' is not recognized as an internal or external command,\n",
      "operable program or batch file.\n",
      "'rm' is not recognized as an internal or external command,\n",
      "operable program or batch file.\n"
     ]
    }
   ],
   "source": [
    "# Zip market data folder and uplaod to gcs\n",
    "\n",
    "!zip -r ../data/market1501.zip ../data/market1501\n",
    "!gsutil cp ../data/market1501.zip gs://cloud-ai-platform-e8edc327-855c-4911-bb8e-205517f8c899/cv/new_market1501.zip\n",
    "!rm ../data/market1501.zip"
   ]
  },
  {
   "cell_type": "code",
   "execution_count": null,
   "metadata": {},
   "outputs": [],
   "source": []
  }
 ],
 "metadata": {
  "kernelspec": {
   "display_name": "brainhack-od",
   "language": "python",
   "name": "python3"
  },
  "language_info": {
   "codemirror_mode": {
    "name": "ipython",
    "version": 3
   },
   "file_extension": ".py",
   "mimetype": "text/x-python",
   "name": "python",
   "nbconvert_exporter": "python",
   "pygments_lexer": "ipython3",
   "version": "3.9.7"
  },
  "orig_nbformat": 4
 },
 "nbformat": 4,
 "nbformat_minor": 2
}

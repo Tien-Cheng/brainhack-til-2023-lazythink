{
 "cells": [
  {
   "cell_type": "code",
   "execution_count": 1,
   "metadata": {},
   "outputs": [
    {
     "name": "stdout",
     "output_type": "stream",
     "text": [
      "/home/kiritowu/code/brainhack-til-2023-lazythink/od\n"
     ]
    }
   ],
   "source": [
    "%cd .."
   ]
  },
  {
   "cell_type": "code",
   "execution_count": 4,
   "metadata": {},
   "outputs": [
    {
     "name": "stdout",
     "output_type": "stream",
     "text": [
      "loading model\n",
      "Downloading (…)ip_pytorch_model.bin:   9%|▏ | 336M/3.94G [00:18<03:38, 16.5MB/s]^C\n",
      "Traceback (most recent call last):\n",
      "  File \"/home/kiritowu/code/brainhack-til-2023-lazythink/od/../reid/main.py\", line 118, in <module>\n",
      "    main()\n",
      "  File \"/home/kiritowu/code/brainhack-til-2023-lazythink/od/../reid/main.py\", line 79, in main\n",
      "    model, preprocess = load_model(\n",
      "                        ^^^^^^^^^^^\n",
      "  File \"/home/kiritowu/code/brainhack-til-2023-lazythink/od/../reid/main.py\", line 51, in load_model\n",
      "    model, preprocess = open_clip.create_model_from_pretrained(**config)\n",
      "                        ^^^^^^^^^^^^^^^^^^^^^^^^^^^^^^^^^^^^^^^^^^^^^^^^\n",
      "  File \"/home/kiritowu/miniconda3/envs/brainhack-od/lib/python3.11/site-packages/open_clip/factory.py\", line 357, in create_model_from_pretrained\n",
      "    model = create_model(\n",
      "            ^^^^^^^^^^^^^\n",
      "  File \"/home/kiritowu/miniconda3/envs/brainhack-od/lib/python3.11/site-packages/open_clip/factory.py\", line 222, in create_model\n",
      "    checkpoint_path = download_pretrained(pretrained_cfg, cache_dir=cache_dir)\n",
      "                      ^^^^^^^^^^^^^^^^^^^^^^^^^^^^^^^^^^^^^^^^^^^^^^^^^^^^^^^^\n",
      "  File \"/home/kiritowu/miniconda3/envs/brainhack-od/lib/python3.11/site-packages/open_clip/pretrained.py\", line 425, in download_pretrained\n",
      "    target = download_pretrained_from_hf(model_id, cache_dir=cache_dir)\n",
      "             ^^^^^^^^^^^^^^^^^^^^^^^^^^^^^^^^^^^^^^^^^^^^^^^^^^^^^^^^^^\n",
      "  File \"/home/kiritowu/miniconda3/envs/brainhack-od/lib/python3.11/site-packages/open_clip/pretrained.py\", line 395, in download_pretrained_from_hf\n",
      "    cached_file = hf_hub_download(model_id, filename, revision=revision, cache_dir=cache_dir)\n",
      "                  ^^^^^^^^^^^^^^^^^^^^^^^^^^^^^^^^^^^^^^^^^^^^^^^^^^^^^^^^^^^^^^^^^^^^^^^^^^^\n",
      "  File \"/home/kiritowu/miniconda3/envs/brainhack-od/lib/python3.11/site-packages/huggingface_hub/utils/_validators.py\", line 120, in _inner_fn\n",
      "    return fn(*args, **kwargs)\n",
      "           ^^^^^^^^^^^^^^^^^^^\n",
      "  File \"/home/kiritowu/miniconda3/envs/brainhack-od/lib/python3.11/site-packages/huggingface_hub/file_download.py\", line 1364, in hf_hub_download\n",
      "    http_get(\n",
      "  File \"/home/kiritowu/miniconda3/envs/brainhack-od/lib/python3.11/site-packages/huggingface_hub/file_download.py\", line 541, in http_get\n",
      "    for chunk in r.iter_content(chunk_size=10 * 1024 * 1024):\n",
      "  File \"/home/kiritowu/miniconda3/envs/brainhack-od/lib/python3.11/site-packages/requests/models.py\", line 816, in generate\n",
      "    yield from self.raw.stream(chunk_size, decode_content=True)\n",
      "  File \"/home/kiritowu/miniconda3/envs/brainhack-od/lib/python3.11/site-packages/urllib3/response.py\", line 628, in stream\n",
      "    data = self.read(amt=amt, decode_content=decode_content)\n",
      "           ^^^^^^^^^^^^^^^^^^^^^^^^^^^^^^^^^^^^^^^^^^^^^^^^^\n",
      "  File \"/home/kiritowu/miniconda3/envs/brainhack-od/lib/python3.11/site-packages/urllib3/response.py\", line 567, in read\n",
      "    data = self._fp_read(amt) if not fp_closed else b\"\"\n",
      "           ^^^^^^^^^^^^^^^^^^\n",
      "  File \"/home/kiritowu/miniconda3/envs/brainhack-od/lib/python3.11/site-packages/urllib3/response.py\", line 533, in _fp_read\n",
      "    return self._fp.read(amt) if amt is not None else self._fp.read()\n",
      "           ^^^^^^^^^^^^^^^^^^\n",
      "  File \"/home/kiritowu/miniconda3/envs/brainhack-od/lib/python3.11/http/client.py\", line 466, in read\n",
      "    s = self.fp.read(amt)\n",
      "        ^^^^^^^^^^^^^^^^^\n",
      "  File \"/home/kiritowu/miniconda3/envs/brainhack-od/lib/python3.11/socket.py\", line 706, in readinto\n",
      "    return self._sock.recv_into(b)\n",
      "           ^^^^^^^^^^^^^^^^^^^^^^^\n",
      "  File \"/home/kiritowu/miniconda3/envs/brainhack-od/lib/python3.11/ssl.py\", line 1278, in recv_into\n",
      "    return self.read(nbytes, buffer)\n",
      "           ^^^^^^^^^^^^^^^^^^^^^^^^^\n",
      "  File \"/home/kiritowu/miniconda3/envs/brainhack-od/lib/python3.11/ssl.py\", line 1134, in read\n",
      "    return self._sslobj.read(len, buffer)\n",
      "           ^^^^^^^^^^^^^^^^^^^^^^^^^^^^^^\n",
      "KeyboardInterrupt\n",
      "Downloading (…)ip_pytorch_model.bin:   9%|▏ | 336M/3.94G [00:19<03:30, 17.2MB/s]\n"
     ]
    }
   ],
   "source": [
    "!python ../reid/main.py data/images/suspects \\\n",
    "    output/test \\\n",
    "    test.csv"
   ]
  },
  {
   "cell_type": "code",
   "execution_count": null,
   "metadata": {},
   "outputs": [],
   "source": []
  }
 ],
 "metadata": {
  "kernelspec": {
   "display_name": "brainhack-od",
   "language": "python",
   "name": "python3"
  },
  "language_info": {
   "codemirror_mode": {
    "name": "ipython",
    "version": 3
   },
   "file_extension": ".py",
   "mimetype": "text/x-python",
   "name": "python",
   "nbconvert_exporter": "python",
   "pygments_lexer": "ipython3",
   "version": "3.11.3"
  },
  "orig_nbformat": 4
 },
 "nbformat": 4,
 "nbformat_minor": 2
}

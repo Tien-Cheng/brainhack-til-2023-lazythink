{
 "cells": [
  {
   "cell_type": "code",
   "execution_count": 3,
   "metadata": {},
   "outputs": [
    {
     "name": "stdout",
     "output_type": "stream",
     "text": [
      "Traceback (most recent call last):\n",
      "  File \"/home/kiritowu/code/brainhack-til-2023-lazythink/od/notebooks/../mmdetection/tools/train.py\", line 133, in <module>\n",
      "    main()\n",
      "  File \"/home/kiritowu/code/brainhack-til-2023-lazythink/od/notebooks/../mmdetection/tools/train.py\", line 70, in main\n",
      "    cfg = Config.fromfile(args.config)\n",
      "          ^^^^^^^^^^^^^^^^^^^^^^^^^^^^\n",
      "  File \"/home/kiritowu/miniconda3/envs/brainhack-od/lib/python3.11/site-packages/mmengine/config/config.py\", line 178, in fromfile\n",
      "    cfg_dict, cfg_text, env_variables = Config._file2dict(\n",
      "                                        ^^^^^^^^^^^^^^^^^^\n",
      "  File \"/home/kiritowu/miniconda3/envs/brainhack-od/lib/python3.11/site-packages/mmengine/config/config.py\", line 490, in _file2dict\n",
      "    _cfg_dict, _cfg_text, _env_variables = Config._file2dict(\n",
      "                                           ^^^^^^^^^^^^^^^^^^\n",
      "  File \"/home/kiritowu/miniconda3/envs/brainhack-od/lib/python3.11/site-packages/mmengine/config/config.py\", line 458, in _file2dict\n",
      "    check_file_exist(filename)\n",
      "  File \"/home/kiritowu/miniconda3/envs/brainhack-od/lib/python3.11/site-packages/mmengine/utils/path.py\", line 23, in check_file_exist\n",
      "    raise FileNotFoundError(msg_tmpl.format(filename))\n",
      "FileNotFoundError: file \"/home/kiritowu/code/brainhack-til-2023-lazythink/od/configs/_base_/datasets/coco_detection.py\" does not exist\n",
      "Exception ignored in: <function _TemporaryFileCloser.__del__ at 0x7fca645334c0>\n",
      "Traceback (most recent call last):\n",
      "  File \"/home/kiritowu/miniconda3/envs/brainhack-od/lib/python3.11/tempfile.py\", line 450, in __del__\n",
      "    self.close()\n",
      "  File \"/home/kiritowu/miniconda3/envs/brainhack-od/lib/python3.11/tempfile.py\", line 446, in close\n",
      "    unlink(self.name)\n",
      "FileNotFoundError: [Errno 2] No such file or directory: '/tmp/tmp35fe6o4m/tmpoqkcvj8j.py'\n"
     ]
    }
   ],
   "source": [
    "!python ../mmdetection/tools/train.py \\\n",
    "    ../configs/faster_rcnn/faster-rcnn_r50_fpn_1x_coco.py"
   ]
  },
  {
   "cell_type": "code",
   "execution_count": null,
   "metadata": {},
   "outputs": [],
   "source": []
  }
 ],
 "metadata": {
  "kernelspec": {
   "display_name": "venv",
   "language": "python",
   "name": "python3"
  },
  "language_info": {
   "codemirror_mode": {
    "name": "ipython",
    "version": 3
   },
   "file_extension": ".py",
   "mimetype": "text/x-python",
   "name": "python",
   "nbconvert_exporter": "python",
   "pygments_lexer": "ipython3",
   "version": "3.11.3"
  },
  "orig_nbformat": 4
 },
 "nbformat": 4,
 "nbformat_minor": 2
}

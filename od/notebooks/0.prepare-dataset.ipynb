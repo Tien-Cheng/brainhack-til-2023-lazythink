{
 "cells": [
  {
   "attachments": {},
   "cell_type": "markdown",
   "metadata": {},
   "source": [
    "# Download Dataset from Zindi"
   ]
  },
  {
   "cell_type": "code",
   "execution_count": null,
   "metadata": {},
   "outputs": [],
   "source": [
    "# no api"
   ]
  },
  {
   "attachments": {},
   "cell_type": "markdown",
   "metadata": {},
   "source": [
    "# Unzip Files to Relevant Directories"
   ]
  },
  {
   "cell_type": "code",
   "execution_count": 8,
   "metadata": {},
   "outputs": [],
   "source": [
    "!unzip -q -o ~/Downloads/Train.zip -d ../data/images/train\n",
    "!unzip -q -o ~/Downloads/Validation.zip -d ../data/images/validation\n",
    "\n",
    "!unzip -q -o ~/Downloads/train_labels.zip -d ../data/labels/yolo/train_labels\n",
    "!unzip -q -o ~/Downloads/val_labels.zip -d ../data/labels/yolo/val_labels\n"
   ]
  },
  {
   "attachments": {},
   "cell_type": "markdown",
   "metadata": {},
   "source": [
    "# Convert Dataset from Yolo to Coco"
   ]
  },
  {
   "cell_type": "code",
   "execution_count": 11,
   "metadata": {},
   "outputs": [],
   "source": [
    "with open(\"../data/labels/classes.name\", \"w\") as f:\n",
    "    for i in range(0,200):\n",
    "        f.write(f\"class_{i}\\n\")"
   ]
  },
  {
   "cell_type": "code",
   "execution_count": 16,
   "metadata": {},
   "outputs": [
    {
     "name": "stdout",
     "output_type": "stream",
     "text": [
      "Collecting image infos...\n",
      "[>>>>>>>>>>>>>>>>>>>>>>>>>] 5664/5664, 15991.0 task/s, elapsed: 0s, ETA:     0s\n",
      "Collecting yolo annotations...\n",
      "[>>>>>>>>>>>>>>>>>>>>>>>>>] 5664/5664, 16296.3 task/s, elapsed: 0s, ETA:     0s\n",
      "save json file: ../data/labels-train.json\n",
      "Collecting image infos...\n",
      "[>>>>>>>>>>>>>>>>>>>>>>>>>>>] 800/800, 14914.4 task/s, elapsed: 0s, ETA:     0s\n",
      "Collecting yolo annotations...\n",
      "[>>>>>>>>>>>>>>>>>>>>>>>>>>>] 800/800, 20230.8 task/s, elapsed: 0s, ETA:     0s\n",
      "save json file: ../data/labels-val.json\n"
     ]
    }
   ],
   "source": [
    "# Convert training dataset\n",
    "!python ../scripts/yolo2coco.py ../data/images/train ../data/labels/yolo/train_labels ../data/labels/classes.name ../data/labels-train.json\n",
    "\n",
    "# Convert validation dataset\n",
    "!python ../scripts/yolo2coco.py ../data/images/validation ../data/labels/yolo/val_labels ../data/labels/classes.name ../data/labels-val.json"
   ]
  }
 ],
 "metadata": {
  "kernelspec": {
   "display_name": "brainhack-od",
   "language": "python",
   "name": "python3"
  },
  "language_info": {
   "codemirror_mode": {
    "name": "ipython",
    "version": 3
   },
   "file_extension": ".py",
   "mimetype": "text/x-python",
   "name": "python",
   "nbconvert_exporter": "python",
   "pygments_lexer": "ipython3",
   "version": "3.11.3"
  },
  "orig_nbformat": 4
 },
 "nbformat": 4,
 "nbformat_minor": 2
}

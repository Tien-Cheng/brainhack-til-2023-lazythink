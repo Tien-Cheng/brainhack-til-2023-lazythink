{
 "cells": [
  {
   "attachments": {},
   "cell_type": "markdown",
   "metadata": {},
   "source": [
    "# Download Dataset from Zindi"
   ]
  },
  {
   "cell_type": "code",
   "execution_count": 1,
   "metadata": {},
   "outputs": [
    {
     "name": "stdout",
     "output_type": "stream",
     "text": [
      "Copying gs://cloud-ai-platform-e8edc327-855c-4911-bb8e-205517f8c899/cv/SampleSubmission.csv...\n",
      "Copying gs://cloud-ai-platform-e8edc327-855c-4911-bb8e-205517f8c899/cv/Train.zip...\n",
      "Copying gs://cloud-ai-platform-e8edc327-855c-4911-bb8e-205517f8c899/cv/Validation.zip...\n",
      "\\ [3 files][  4.3 GiB/  4.3 GiB]   56.4 MiB/s                                   \n",
      "==> NOTE: You are performing a sequence of gsutil operations that may\n",
      "run significantly faster if you instead use gsutil -m cp ... Please\n",
      "see the -m section under \"gsutil help options\" for further information\n",
      "about when gsutil -m can be advantageous.\n",
      "\n",
      "Copying gs://cloud-ai-platform-e8edc327-855c-4911-bb8e-205517f8c899/cv/suspects.zip...\n",
      "Copying gs://cloud-ai-platform-e8edc327-855c-4911-bb8e-205517f8c899/cv/test.csv...\n",
      "Copying gs://cloud-ai-platform-e8edc327-855c-4911-bb8e-205517f8c899/cv/train_labels.zip...\n",
      "Copying gs://cloud-ai-platform-e8edc327-855c-4911-bb8e-205517f8c899/cv/val_labels.zip...\n",
      "\\ [7 files][  4.4 GiB/  4.4 GiB]   22.5 MiB/s                                   \n",
      "Operation completed over 7 objects/4.4 GiB.                                      \n"
     ]
    }
   ],
   "source": [
    "# from zindi no api\n",
    "\n",
    "# from noteable\n",
    "\n",
    "# from gcs\n",
    "!gsutil cp -r gs://cloud-ai-platform-e8edc327-855c-4911-bb8e-205517f8c899/cv /tmp/"
   ]
  },
  {
   "attachments": {},
   "cell_type": "markdown",
   "metadata": {},
   "source": [
    "# Unzip Files to Relevant Directories"
   ]
  },
  {
   "cell_type": "code",
   "execution_count": 6,
   "metadata": {},
   "outputs": [],
   "source": [
    "!mkdir ../data/images\n",
    "!mkdir ../data/images/train\n",
    "!mkdir ../data/images/validation\n",
    "!mkdir ../data/images/test"
   ]
  },
  {
   "cell_type": "code",
   "execution_count": 7,
   "metadata": {},
   "outputs": [],
   "source": [
    "!unzip -q -o /tmp/cv/Train.zip -d ../data/images/train\n",
    "!unzip -q -o /tmp/cv/Validation.zip -d ../data/images/validation\n",
    "!unzip -q -o /tmp/cv/Test.zip -d ../data/images/test\n",
    "\n",
    "!unzip -q -o /tmp/cv/train_labels.zip -d ../data/labels/yolo/train_labels\n",
    "!unzip -q -o /tmp/cv/val_labels.zip -d ../data/labels/yolo/val_labels\n",
    "!mkdir ../data/labels/yolo/test_labels"
   ]
  },
  {
   "attachments": {},
   "cell_type": "markdown",
   "metadata": {},
   "source": [
    "# Convert Dataset from Yolo to Coco"
   ]
  },
  {
   "cell_type": "code",
   "execution_count": 4,
   "metadata": {},
   "outputs": [],
   "source": [
    "# Create empty annotation file for each test images\n",
    "from pathlib import Path\n",
    "\n",
    "test_images = Path(\"../data/images/test\").glob(\"*.png\")\n",
    "for image in test_images:\n",
    "    with open(f\"../data/labels/yolo/test_labels/{image.stem}.txt\", \"w\") as f:\n",
    "        pass"
   ]
  },
  {
   "cell_type": "code",
   "execution_count": 7,
   "metadata": {},
   "outputs": [
    {
     "name": "stdout",
     "output_type": "stream",
     "text": [
      "Collecting image infos...\n",
      "[>>>>>>>>>>>>>>>>>>>>>>>>>>>>>>>>>] 1/1, 245.8 task/s, elapsed: 0s, ETA:     0s\n",
      "Collecting yolo annotations...\n",
      "[>>>>>>>>>>>>>>>>>>>>>>>>>>>>>>>] 1/1, 12122.3 task/s, elapsed: 0s, ETA:     0s\n",
      "save json file: ../data/labels-test.json\n"
     ]
    }
   ],
   "source": [
    "# Convert training dataset\n",
    "!/opt/conda/envs/brainhack-od/bin/python ../scripts/yolo2coco.py ../data/images/train ../data/labels/yolo/train_labels ../data/labels/classes.name ../data/labels-train.json\n",
    "\n",
    "# Convert validation dataset\n",
    "!/opt/conda/envs/brainhack-od/bin/python ../scripts/yolo2coco.py ../data/images/validation ../data/labels/yolo/val_labels ../data/labels/classes.name ../data/labels-val.json\n",
    "\n",
    "# Convert test dataset\n",
    "!python ../scripts/yolo2coco.py ../data/images/test ../data/labels/yolo/test_labels ../data/labels/classes.name ../data/labels-test.json"
   ]
  }
 ],
 "metadata": {
  "kernelspec": {
   "display_name": "brainhack-od-conda (Local)",
   "language": "python",
   "name": "local-brainhack-od-conda"
  },
  "language_info": {
   "codemirror_mode": {
    "name": "ipython",
    "version": 3
   },
   "file_extension": ".py",
   "mimetype": "text/x-python",
   "name": "python",
   "nbconvert_exporter": "python",
   "pygments_lexer": "ipython3",
   "version": "3.10.11"
  }
 },
 "nbformat": 4,
 "nbformat_minor": 4
}

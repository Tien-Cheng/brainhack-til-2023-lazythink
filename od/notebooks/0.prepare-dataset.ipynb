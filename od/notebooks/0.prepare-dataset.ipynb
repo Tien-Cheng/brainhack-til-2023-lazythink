{
 "cells": [
  {
   "attachments": {},
   "cell_type": "markdown",
   "metadata": {},
   "source": [
    "# Download Dataset from ..."
   ]
  },
  {
   "cell_type": "code",
   "execution_count": null,
   "metadata": {},
   "outputs": [],
   "source": []
  },
  {
   "attachments": {},
   "cell_type": "markdown",
   "metadata": {},
   "source": [
    "# Convert Dataset from Yolo to Coco"
   ]
  },
  {
   "cell_type": "code",
   "execution_count": null,
   "metadata": {},
   "outputs": [],
   "source": [
    "# Convert training dataset\n",
    "!python ../scripts/yolo2coco.py ../data/images ../data/labels/yolo/train ../data/labels/classes.name ../data/labels-train.json\n",
    "\n",
    "# Convert testing dataset\n",
    "!python ../scripts/yolo2coco.py ../data/images ../data/labels/yolo/test ../data/labels/classes.name ../data/labels-test.json"
   ]
  }
 ],
 "metadata": {
  "kernelspec": {
   "display_name": "brainhack-od",
   "language": "python",
   "name": "python3"
  },
  "language_info": {
   "name": "python",
   "version": "3.11.3"
  },
  "orig_nbformat": 4
 },
 "nbformat": 4,
 "nbformat_minor": 2
}

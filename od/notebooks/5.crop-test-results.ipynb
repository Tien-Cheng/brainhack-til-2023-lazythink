{
 "cells": [
  {
   "cell_type": "code",
   "execution_count": 1,
   "metadata": {},
   "outputs": [
    {
     "name": "stdout",
     "output_type": "stream",
     "text": [
      "/home/kiritowu/code/brainhack-til-2023-lazythink/od\n"
     ]
    }
   ],
   "source": [
    "%cd .."
   ]
  },
  {
   "attachments": {},
   "cell_type": "markdown",
   "metadata": {},
   "source": [
    "# Crop and Save Test Results"
   ]
  },
  {
   "cell_type": "code",
   "execution_count": 18,
   "metadata": {},
   "outputs": [
    {
     "name": "stdout",
     "output_type": "stream",
     "text": [
      "\n",
      "==============[ CoCoDataset json info ]==============\n",
      "Total Annotations: 0\n",
      "Total Image      : 1600\n",
      "Annotated Image  : 0\n",
      "Total Category   : 1\n",
      "----------------------------\n",
      "       class        | count\n",
      "----------------------------\n",
      "\n",
      "100%|███████████████████████████████████████| 1600/1600 [00:28<00:00, 55.94it/s]\n",
      "All images exported successfully!\n"
     ]
    }
   ],
   "source": [
    "!python scripts/export-detected-image.py data/images/test \\\n",
    "    data/labels-test.json \\\n",
    "    work_dirs/coco_detection/test.bbox.json \\\n",
    "    output/test \\\n",
    "    --confidence_threshold=0.5"
   ]
  },
  {
   "attachments": {},
   "cell_type": "markdown",
   "metadata": {},
   "source": [
    "# Zip and Upload Test Results to GCS"
   ]
  },
  {
   "cell_type": "code",
   "execution_count": 20,
   "metadata": {},
   "outputs": [],
   "source": [
    "!zip -r test-detected.zip output/test -q"
   ]
  },
  {
   "cell_type": "code",
   "execution_count": 23,
   "metadata": {},
   "outputs": [
    {
     "name": "stdout",
     "output_type": "stream",
     "text": [
      "Copying file://test-detected.zip [Content-Type=application/zip]...\n",
      "\\ [1 files][125.1 MiB/125.1 MiB]                                                \n",
      "Operation completed over 1 objects/125.1 MiB.                                    \n"
     ]
    }
   ],
   "source": [
    "# Upload to GCS\n",
    "!gsutil cp test-detected.zip gs://cloud-ai-platform-e8edc327-855c-4911-bb8e-205517f8c899/cv/test-detected.zip"
   ]
  }
 ],
 "metadata": {
  "kernelspec": {
   "display_name": "brainhack-od",
   "language": "python",
   "name": "python3"
  },
  "language_info": {
   "codemirror_mode": {
    "name": "ipython",
    "version": 3
   },
   "file_extension": ".py",
   "mimetype": "text/x-python",
   "name": "python",
   "nbconvert_exporter": "python",
   "pygments_lexer": "ipython3",
   "version": "3.11.3"
  },
  "orig_nbformat": 4
 },
 "nbformat": 4,
 "nbformat_minor": 2
}
